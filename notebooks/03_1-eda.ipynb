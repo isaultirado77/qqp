{
 "cells": [
  {
   "cell_type": "markdown",
   "id": "9b2076eb",
   "metadata": {},
   "source": [
    "## EDA: **QUIEN ES QUIEN EN LOS PRECIOS - SONORA**"
   ]
  },
  {
   "cell_type": "code",
   "execution_count": 4,
   "id": "4161c0e1",
   "metadata": {},
   "outputs": [],
   "source": [
    "from pathlib import Path\n",
    "\n",
    "import pandas as pd\n",
    "import matplotlib.pyplot as plt\n",
    "import seaborn as sns"
   ]
  },
  {
   "cell_type": "markdown",
   "id": "2ce17c10",
   "metadata": {},
   "source": [
    "## Carga de datos: Periodo 2020 - 2025"
   ]
  },
  {
   "cell_type": "code",
   "execution_count": 24,
   "id": "8206572c",
   "metadata": {},
   "outputs": [
    {
     "name": "stdout",
     "output_type": "stream",
     "text": [
      "data\\raw\n"
     ]
    }
   ],
   "source": [
    "BASE = Path().absolute().parent.parent\n",
    "RAW = BASE / \"data/raw\"\n",
    "print(RAW.relative_to(BASE))  # OK"
   ]
  },
  {
   "cell_type": "code",
   "execution_count": 26,
   "id": "90f76c6b",
   "metadata": {},
   "outputs": [
    {
     "name": "stdout",
     "output_type": "stream",
     "text": [
      "data\\raw\\qqp_2015-2016-2017-2018-2019_sonora.csv\n",
      "data\\raw\\QQP_2015_son\n",
      "data\\raw\\QQP_2016_son\n",
      "data\\raw\\QQP_2017_son\n",
      "data\\raw\\QQP_2018_son\n",
      "data\\raw\\QQP_2019_son\n",
      "data\\raw\\qqp_2020-2021-2022-2023-2024-2025_sonora.csv\n",
      "data\\raw\\QQP_2020_son\n",
      "data\\raw\\QQP_2021_son\n",
      "data\\raw\\QQP_2022_son\n",
      "data\\raw\\QQP_2023_son\n",
      "data\\raw\\QQP_2024_son\n",
      "data\\raw\\QQP_2025_son\n"
     ]
    }
   ],
   "source": [
    "for item in RAW.iterdir():\n",
    "    print(item.relative_to(BASE))"
   ]
  },
  {
   "cell_type": "code",
   "execution_count": 27,
   "id": "b4a2088f",
   "metadata": {},
   "outputs": [
    {
     "data": {
      "text/plain": [
       "True"
      ]
     },
     "execution_count": 27,
     "metadata": {},
     "output_type": "execute_result"
    }
   ],
   "source": [
    "TARGET = RAW / \"qqp_2020-2021-2022-2023-2024-2025_sonora.csv\"\n",
    "TARGET.exists()"
   ]
  },
  {
   "cell_type": "code",
   "execution_count": 29,
   "id": "af90769c",
   "metadata": {},
   "outputs": [],
   "source": [
    "df = pd.read_csv(TARGET)  # OK"
   ]
  },
  {
   "cell_type": "code",
   "execution_count": 32,
   "id": "ecfb8324",
   "metadata": {},
   "outputs": [
    {
     "data": {
      "text/html": [
       "<div>\n",
       "<style scoped>\n",
       "    .dataframe tbody tr th:only-of-type {\n",
       "        vertical-align: middle;\n",
       "    }\n",
       "\n",
       "    .dataframe tbody tr th {\n",
       "        vertical-align: top;\n",
       "    }\n",
       "\n",
       "    .dataframe thead th {\n",
       "        text-align: right;\n",
       "    }\n",
       "</style>\n",
       "<table border=\"1\" class=\"dataframe\">\n",
       "  <thead>\n",
       "    <tr style=\"text-align: right;\">\n",
       "      <th></th>\n",
       "      <th>Unnamed: 0</th>\n",
       "      <th>producto</th>\n",
       "      <th>presentacion</th>\n",
       "      <th>marca</th>\n",
       "      <th>categoria</th>\n",
       "      <th>catalogo</th>\n",
       "      <th>precio</th>\n",
       "      <th>fecha_registro</th>\n",
       "      <th>cadena_comercial</th>\n",
       "      <th>giro</th>\n",
       "      <th>nombre_comercial</th>\n",
       "      <th>direccion</th>\n",
       "      <th>estado</th>\n",
       "      <th>municipio</th>\n",
       "      <th>latitud</th>\n",
       "      <th>longitud</th>\n",
       "    </tr>\n",
       "  </thead>\n",
       "  <tbody>\n",
       "    <tr>\n",
       "      <th>0</th>\n",
       "      <td>189014.0</td>\n",
       "      <td>ACEITE</td>\n",
       "      <td>BOTELLA 845 ML. CANOLA</td>\n",
       "      <td>CAPULLO</td>\n",
       "      <td>ACEITES Y GRASAS VEG. COMESTIBLES</td>\n",
       "      <td>BASICOS</td>\n",
       "      <td>28.40</td>\n",
       "      <td>2020-02-04</td>\n",
       "      <td>WAL-MART</td>\n",
       "      <td>SUPERMERCADO / TIENDA DE AUTOSERVICIO</td>\n",
       "      <td>WALMART SUCURSAL BOULEVARD MORELOS</td>\n",
       "      <td>BLVD. JOSE MARIA MORELOS 355, ESQ. CONGRESO, C...</td>\n",
       "      <td>SONORA</td>\n",
       "      <td>HERMOSILLO</td>\n",
       "      <td>29.121467</td>\n",
       "      <td>-110.950883</td>\n",
       "    </tr>\n",
       "    <tr>\n",
       "      <th>1</th>\n",
       "      <td>189015.0</td>\n",
       "      <td>ACEITE</td>\n",
       "      <td>BOTELLA 946 ML. SOYA</td>\n",
       "      <td>GREAT VALUE</td>\n",
       "      <td>ACEITES Y GRASAS VEG. COMESTIBLES</td>\n",
       "      <td>BASICOS</td>\n",
       "      <td>24.25</td>\n",
       "      <td>2020-02-04</td>\n",
       "      <td>WAL-MART</td>\n",
       "      <td>SUPERMERCADO / TIENDA DE AUTOSERVICIO</td>\n",
       "      <td>WALMART SUCURSAL BOULEVARD MORELOS</td>\n",
       "      <td>BLVD. JOSE MARIA MORELOS 355, ESQ. CONGRESO, C...</td>\n",
       "      <td>SONORA</td>\n",
       "      <td>HERMOSILLO</td>\n",
       "      <td>29.121467</td>\n",
       "      <td>-110.950883</td>\n",
       "    </tr>\n",
       "    <tr>\n",
       "      <th>2</th>\n",
       "      <td>189016.0</td>\n",
       "      <td>ACEITE</td>\n",
       "      <td>BOTELLA 900 ML. MAIZ</td>\n",
       "      <td>MACEITE</td>\n",
       "      <td>ACEITES Y GRASAS VEG. COMESTIBLES</td>\n",
       "      <td>BASICOS</td>\n",
       "      <td>25.00</td>\n",
       "      <td>2020-02-04</td>\n",
       "      <td>WAL-MART</td>\n",
       "      <td>SUPERMERCADO / TIENDA DE AUTOSERVICIO</td>\n",
       "      <td>WALMART SUCURSAL BOULEVARD MORELOS</td>\n",
       "      <td>BLVD. JOSE MARIA MORELOS 355, ESQ. CONGRESO, C...</td>\n",
       "      <td>SONORA</td>\n",
       "      <td>HERMOSILLO</td>\n",
       "      <td>29.121467</td>\n",
       "      <td>-110.950883</td>\n",
       "    </tr>\n",
       "    <tr>\n",
       "      <th>3</th>\n",
       "      <td>189017.0</td>\n",
       "      <td>ACEITE</td>\n",
       "      <td>BOTELLA 900 ML. MAIZ</td>\n",
       "      <td>MAZOLA</td>\n",
       "      <td>ACEITES Y GRASAS VEG. COMESTIBLES</td>\n",
       "      <td>BASICOS</td>\n",
       "      <td>29.50</td>\n",
       "      <td>2020-02-04</td>\n",
       "      <td>WAL-MART</td>\n",
       "      <td>SUPERMERCADO / TIENDA DE AUTOSERVICIO</td>\n",
       "      <td>WALMART SUCURSAL BOULEVARD MORELOS</td>\n",
       "      <td>BLVD. JOSE MARIA MORELOS 355, ESQ. CONGRESO, C...</td>\n",
       "      <td>SONORA</td>\n",
       "      <td>HERMOSILLO</td>\n",
       "      <td>29.121467</td>\n",
       "      <td>-110.950883</td>\n",
       "    </tr>\n",
       "    <tr>\n",
       "      <th>4</th>\n",
       "      <td>189018.0</td>\n",
       "      <td>ACEITE</td>\n",
       "      <td>BOTELLA 946 ML. SOYA</td>\n",
       "      <td>NUTRIOLI</td>\n",
       "      <td>ACEITES Y GRASAS VEG. COMESTIBLES</td>\n",
       "      <td>BASICOS</td>\n",
       "      <td>25.70</td>\n",
       "      <td>2020-02-04</td>\n",
       "      <td>WAL-MART</td>\n",
       "      <td>SUPERMERCADO / TIENDA DE AUTOSERVICIO</td>\n",
       "      <td>WALMART SUCURSAL BOULEVARD MORELOS</td>\n",
       "      <td>BLVD. JOSE MARIA MORELOS 355, ESQ. CONGRESO, C...</td>\n",
       "      <td>SONORA</td>\n",
       "      <td>HERMOSILLO</td>\n",
       "      <td>29.121467</td>\n",
       "      <td>-110.950883</td>\n",
       "    </tr>\n",
       "  </tbody>\n",
       "</table>\n",
       "</div>"
      ],
      "text/plain": [
       "   Unnamed: 0 producto            presentacion        marca  \\\n",
       "0    189014.0   ACEITE  BOTELLA 845 ML. CANOLA      CAPULLO   \n",
       "1    189015.0   ACEITE    BOTELLA 946 ML. SOYA  GREAT VALUE   \n",
       "2    189016.0   ACEITE    BOTELLA 900 ML. MAIZ      MACEITE   \n",
       "3    189017.0   ACEITE    BOTELLA 900 ML. MAIZ       MAZOLA   \n",
       "4    189018.0   ACEITE    BOTELLA 946 ML. SOYA     NUTRIOLI   \n",
       "\n",
       "                           categoria catalogo precio fecha_registro  \\\n",
       "0  ACEITES Y GRASAS VEG. COMESTIBLES  BASICOS  28.40     2020-02-04   \n",
       "1  ACEITES Y GRASAS VEG. COMESTIBLES  BASICOS  24.25     2020-02-04   \n",
       "2  ACEITES Y GRASAS VEG. COMESTIBLES  BASICOS  25.00     2020-02-04   \n",
       "3  ACEITES Y GRASAS VEG. COMESTIBLES  BASICOS  29.50     2020-02-04   \n",
       "4  ACEITES Y GRASAS VEG. COMESTIBLES  BASICOS  25.70     2020-02-04   \n",
       "\n",
       "  cadena_comercial                                   giro  \\\n",
       "0         WAL-MART  SUPERMERCADO / TIENDA DE AUTOSERVICIO   \n",
       "1         WAL-MART  SUPERMERCADO / TIENDA DE AUTOSERVICIO   \n",
       "2         WAL-MART  SUPERMERCADO / TIENDA DE AUTOSERVICIO   \n",
       "3         WAL-MART  SUPERMERCADO / TIENDA DE AUTOSERVICIO   \n",
       "4         WAL-MART  SUPERMERCADO / TIENDA DE AUTOSERVICIO   \n",
       "\n",
       "                     nombre_comercial  \\\n",
       "0  WALMART SUCURSAL BOULEVARD MORELOS   \n",
       "1  WALMART SUCURSAL BOULEVARD MORELOS   \n",
       "2  WALMART SUCURSAL BOULEVARD MORELOS   \n",
       "3  WALMART SUCURSAL BOULEVARD MORELOS   \n",
       "4  WALMART SUCURSAL BOULEVARD MORELOS   \n",
       "\n",
       "                                           direccion  estado   municipio  \\\n",
       "0  BLVD. JOSE MARIA MORELOS 355, ESQ. CONGRESO, C...  SONORA  HERMOSILLO   \n",
       "1  BLVD. JOSE MARIA MORELOS 355, ESQ. CONGRESO, C...  SONORA  HERMOSILLO   \n",
       "2  BLVD. JOSE MARIA MORELOS 355, ESQ. CONGRESO, C...  SONORA  HERMOSILLO   \n",
       "3  BLVD. JOSE MARIA MORELOS 355, ESQ. CONGRESO, C...  SONORA  HERMOSILLO   \n",
       "4  BLVD. JOSE MARIA MORELOS 355, ESQ. CONGRESO, C...  SONORA  HERMOSILLO   \n",
       "\n",
       "     latitud     longitud  \n",
       "0  29.121467  -110.950883  \n",
       "1  29.121467  -110.950883  \n",
       "2  29.121467  -110.950883  \n",
       "3  29.121467  -110.950883  \n",
       "4  29.121467  -110.950883  "
      ]
     },
     "execution_count": 32,
     "metadata": {},
     "output_type": "execute_result"
    }
   ],
   "source": [
    "df.head()"
   ]
  },
  {
   "cell_type": "code",
   "execution_count": 30,
   "id": "73d4f77f",
   "metadata": {},
   "outputs": [
    {
     "name": "stdout",
     "output_type": "stream",
     "text": [
      "<class 'pandas.core.frame.DataFrame'>\n",
      "RangeIndex: 1063504 entries, 0 to 1063503\n",
      "Data columns (total 16 columns):\n",
      " #   Column            Non-Null Count    Dtype  \n",
      "---  ------            --------------    -----  \n",
      " 0   Unnamed: 0        1063393 non-null  float64\n",
      " 1   producto          1063504 non-null  object \n",
      " 2   presentacion      1063504 non-null  object \n",
      " 3   marca             1063504 non-null  object \n",
      " 4   categoria         1063504 non-null  object \n",
      " 5   catalogo          1063504 non-null  object \n",
      " 6   precio            1063504 non-null  object \n",
      " 7   fecha_registro    1063504 non-null  object \n",
      " 8   cadena_comercial  1063504 non-null  object \n",
      " 9   giro              1063504 non-null  object \n",
      " 10  nombre_comercial  1063504 non-null  object \n",
      " 11  direccion         1063504 non-null  object \n",
      " 12  estado            1063504 non-null  object \n",
      " 13  municipio         1063504 non-null  object \n",
      " 14  latitud           1063504 non-null  object \n",
      " 15  longitud          1063504 non-null  object \n",
      "dtypes: float64(1), object(15)\n",
      "memory usage: 129.8+ MB\n"
     ]
    }
   ],
   "source": [
    "df.info()"
   ]
  },
  {
   "cell_type": "code",
   "execution_count": null,
   "id": "ea493e40",
   "metadata": {},
   "outputs": [],
   "source": []
  }
 ],
 "metadata": {
  "kernelspec": {
   "display_name": "prices",
   "language": "python",
   "name": "python3"
  },
  "language_info": {
   "codemirror_mode": {
    "name": "ipython",
    "version": 3
   },
   "file_extension": ".py",
   "mimetype": "text/x-python",
   "name": "python",
   "nbconvert_exporter": "python",
   "pygments_lexer": "ipython3",
   "version": "3.13.7"
  }
 },
 "nbformat": 4,
 "nbformat_minor": 5
}
