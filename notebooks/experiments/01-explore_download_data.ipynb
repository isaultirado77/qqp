{
 "cells": [
  {
   "cell_type": "markdown",
   "id": "3af394a8",
   "metadata": {},
   "source": [
    "# **Data Extraction**"
   ]
  },
  {
   "cell_type": "code",
   "execution_count": null,
   "id": "824173dd",
   "metadata": {},
   "outputs": [],
   "source": [
    "import pandas as pd\n",
    "import requests\n",
    "from bs4 import BeautifulSoup\n",
    "from pathlib import Path"
   ]
  },
  {
   "cell_type": "markdown",
   "id": "6690f274",
   "metadata": {},
   "source": [
    "## Scraping Datos Historicos"
   ]
  },
  {
   "cell_type": "code",
   "execution_count": 2,
   "id": "5708bc42",
   "metadata": {},
   "outputs": [],
   "source": [
    "url = r\"https://datos.profeco.gob.mx/datos_abiertos/qqp.php#\""
   ]
  },
  {
   "cell_type": "code",
   "execution_count": 3,
   "id": "9b6b500b",
   "metadata": {},
   "outputs": [
    {
     "data": {
      "text/plain": [
       "(200,\n",
       " b'<!DOCTYPE html>\\r\\n<html lang=\"es\">\\r\\n<head>\\r\\n    <meta http-equiv=\"Content-Type\" content=\"text/html; c')"
      ]
     },
     "execution_count": 3,
     "metadata": {},
     "output_type": "execute_result"
    }
   ],
   "source": [
    "r = requests.get(url)\n",
    "r.status_code, r.content[:100]  # OK"
   ]
  },
  {
   "cell_type": "code",
   "execution_count": 4,
   "id": "01fa0808",
   "metadata": {},
   "outputs": [],
   "source": [
    "soup = BeautifulSoup(r.content, 'html.parser')"
   ]
  },
  {
   "cell_type": "code",
   "execution_count": 5,
   "id": "b609d2b5",
   "metadata": {},
   "outputs": [
    {
     "name": "stdout",
     "output_type": "stream",
     "text": [
      "<!DOCTYPE html>\n",
      "<html lang=\"es\">\n",
      " <head>\n",
      "  <meta content=\"text/html; charset=utf-8\" http-equiv=\"Content-Type\"/>\n",
      "  <meta content=\"width=device-width, initial-scale=1, maximum-scale=1\" name=\"viewport\"/>\n",
      "  <meta content=\"Datos abiertos de la Procuraduría Federal del Consumidor\" name=\"description\"/>\n",
      "  <meta content=\"Procuraduría Federal del Consumidor (PROFECO)\" name=\"author\"/>\n",
      "  <title>\n",
      "   Datos abiertos | PROFECO\n",
      "  </title>\n",
      "  <link href=\"https://www.gob.mx/cms/uploads/image/file/488329/favicon.png\" rel=\"icon\"/>\n",
      "  <link href=\"https://framework-gb.cdn.gob.mx/assets/styles/main.css\" rel=\"stylesheet\"/>\n",
      "  <link href=\"https://cdn.datatables.net/v/dt/dt-1.11.0/r-2.2.9/datatables.min.css\" rel=\"stylesheet\" type=\"text/css\">\n",
      "  </link>\n",
      " </head>\n",
      " <body>\n",
      "  <nav class=\"navbar navbar-inverse sub-navbar navbar-fixed-top\">\n",
      "   <div class=\"container\">\n",
      "    <div class=\"navbar-header\">\n",
      "     <button class=\"navbar-toggle collapsed\" data-target=\"#subenlaces\" data-toggle=\"collapse\" type=\"button\">\n",
      "      <span class=\"sr-only\">\n",
      "       Interruptor de Navegación\n",
      "      </span>\n",
      "      <span class=\"icon-bar\">\n",
      "      </span>\n",
      "      <span class=\"icon-bar\">\n",
      "      </span>\n",
      "      <span class=\"icon-bar\">\n",
      "      </span>\n",
      "     </button>\n",
      "     <a class=\"navbar-brand\" href=\"https://www.gob.mx/profeco\">\n",
      "      PROFECO\n",
      "     </a>\n",
      "    </div>\n",
      "   </div>\n",
      "  </nav>\n",
      "  <main class=\"page\">\n",
      "   <div class=\"container\">\n",
      "    <br/>\n",
      "    <br/>\n",
      "    <br/>\n",
      "    <ol class=\"breadcrumb\">\n",
      "     <li>\n",
      "      <a href=\"index.php\">\n",
      "       <i class=\"icon icon-home\">\n",
      "       </i>\n",
      "      </a>\n",
      "     </li>\n",
      "     <li class=\"active\">\n",
      "      Inicio\n",
      "     </li>\n",
      "    </ol>\n",
      "    <h2>\n",
      "     Datos abiertos\n",
      "    </h2>\n",
      "    <hr class=\"red\"/>\n",
      "    <h4>\n",
      "     Quién es Quién en los precios\n",
      "    </h4>\n",
      "    <div class=\"form-group\">\n",
      "     <li>\n",
      "      <a href=\"file.php?t=c7ada121b4029dddd5a3463fa367c56d\">\n",
      "       Base de Datos Histórica Quién es Quién en los Precios 2025\n",
      "      </a>\n",
      "     </li>\n",
      "     <li>\n",
      "      <a href=\"file.php?t=4af96007e16916edb17ef6f9279e7016\">\n",
      "       Base de Datos Histórica Quién es Quién en los Precios 2024\n",
      "      </a>\n",
      "     </li>\n",
      "     <li>\n",
      "      <a href=\"file.php?t=f3270d227f2966e6138a3ed41a9bbfb7\">\n",
      "       Base de Datos Histórica Quién es Quién en los Precios 2023\n",
      "      </a>\n",
      "     </li>\n",
      "     <li>\n",
      "      <a href=\"file.php?t=af88f42c5cb82c6c35dd962b1ae69051\">\n",
      "       Base de Datos Histórica Quién es Quién en los Precios 2022\n",
      "      </a>\n",
      "     </li>\n",
      "     <li>\n",
      "      <a href=\"file.php?t=493b83b886f0266909d783fc8f776b11\">\n",
      "       Base de Datos Histórica Quién es Quién en los Precios 2021\n",
      "      </a>\n",
      "     </li>\n",
      "     <li>\n",
      "      <a href=\"file.php?t=4df382eefa26f1f0d28d3a11aaf41add\">\n",
      "       Base de Datos Histórica Quién es Quién en los Precios 2020\n",
      "      </a>\n",
      "     </li>\n",
      "     <li>\n",
      "      <a href=\"file.php?t=09939d92d2afcde64dbc06e057877e16\">\n",
      "       Base de Datos Histórica Quién es Quién en los Precios 2019\n",
      "      </a>\n",
      "     </li>\n",
      "     <li>\n",
      "      <a href=\"file.php?t=01fafa951fb6c82e6e4bb491af8f1688\">\n",
      "       Base de Datos Histórica Quién es Quién en los Precios 2018\n",
      "      </a>\n",
      "     </li>\n",
      "     <li>\n",
      "      <a href=\"file.php?t=059e79ffa462f6f51ed3aa1dbfa83a70\">\n",
      "       Base de Datos Histórica Quién es Quién en los Precios 2017\n",
      "      </a>\n",
      "     </li>\n",
      "     <li>\n",
      "      <a href=\"file.php?t=c388a30cb3f4b4c4fa29302618ef5557\">\n",
      "       Base de Datos Histórica Quién es Quién en los Precios 2016\n",
      "      </a>\n",
      "     </li>\n",
      "     <li>\n",
      "      <a href=\"file.php?t=4ecfa981c01e742a5461bf543a7b4108\">\n",
      "       Base de Datos Histórica Quién es Quién en los Precios 2015\n",
      "      </a>\n",
      "     </li>\n",
      "    </div>\n",
      "   </div>\n",
      "   <br/>\n",
      "   <br/>\n",
      "  </main>\n",
      "  <script src=\"https://framework-gb.cdn.gob.mx/gobmx.js\">\n",
      "  </script>\n",
      "  <script src=\"js/jquery.min.js\">\n",
      "  </script>\n",
      " </body>\n",
      "</html>\n",
      "\n"
     ]
    }
   ],
   "source": [
    "print(soup.prettify())"
   ]
  },
  {
   "cell_type": "code",
   "execution_count": 6,
   "id": "1d8a622d",
   "metadata": {},
   "outputs": [
    {
     "data": {
      "text/plain": [
       "(<title>Datos abiertos | PROFECO</title>, 'Datos abiertos | PROFECO', 'title')"
      ]
     },
     "execution_count": 6,
     "metadata": {},
     "output_type": "execute_result"
    }
   ],
   "source": [
    "soup.title, soup.title.string, soup.title.name"
   ]
  },
  {
   "cell_type": "code",
   "execution_count": 7,
   "id": "17af7ea0",
   "metadata": {},
   "outputs": [
    {
     "data": {
      "text/plain": [
       "<a class=\"navbar-brand\" href=\"https://www.gob.mx/profeco\">PROFECO</a>"
      ]
     },
     "execution_count": 7,
     "metadata": {},
     "output_type": "execute_result"
    }
   ],
   "source": [
    "soup.a"
   ]
  },
  {
   "cell_type": "code",
   "execution_count": 8,
   "id": "f449dbea",
   "metadata": {},
   "outputs": [
    {
     "data": {
      "text/plain": [
       "[<a class=\"navbar-brand\" href=\"https://www.gob.mx/profeco\">PROFECO</a>,\n",
       " <a href=\"index.php\"><i class=\"icon icon-home\"></i></a>,\n",
       " <a href=\"file.php?t=c7ada121b4029dddd5a3463fa367c56d\">Base de Datos Histórica Quién es Quién en los Precios 2025</a>,\n",
       " <a href=\"file.php?t=4af96007e16916edb17ef6f9279e7016\">Base de Datos Histórica Quién es Quién en los Precios 2024</a>,\n",
       " <a href=\"file.php?t=f3270d227f2966e6138a3ed41a9bbfb7\">Base de Datos Histórica Quién es Quién en los Precios 2023</a>,\n",
       " <a href=\"file.php?t=af88f42c5cb82c6c35dd962b1ae69051\">Base de Datos Histórica Quién es Quién en los Precios 2022</a>,\n",
       " <a href=\"file.php?t=493b83b886f0266909d783fc8f776b11\">Base de Datos Histórica Quién es Quién en los Precios 2021</a>,\n",
       " <a href=\"file.php?t=4df382eefa26f1f0d28d3a11aaf41add\">Base de Datos Histórica Quién es Quién en los Precios 2020</a>,\n",
       " <a href=\"file.php?t=09939d92d2afcde64dbc06e057877e16\">Base de Datos Histórica Quién es Quién en los Precios 2019</a>,\n",
       " <a href=\"file.php?t=01fafa951fb6c82e6e4bb491af8f1688\">Base de Datos Histórica Quién es Quién en los Precios 2018</a>,\n",
       " <a href=\"file.php?t=059e79ffa462f6f51ed3aa1dbfa83a70\">Base de Datos Histórica Quién es Quién en los Precios 2017</a>,\n",
       " <a href=\"file.php?t=c388a30cb3f4b4c4fa29302618ef5557\">Base de Datos Histórica Quién es Quién en los Precios 2016</a>,\n",
       " <a href=\"file.php?t=4ecfa981c01e742a5461bf543a7b4108\">Base de Datos Histórica Quién es Quién en los Precios 2015</a>]"
      ]
     },
     "execution_count": 8,
     "metadata": {},
     "output_type": "execute_result"
    }
   ],
   "source": [
    "soup.find_all('a')"
   ]
  },
  {
   "cell_type": "markdown",
   "id": "43b4bd69",
   "metadata": {},
   "source": [
    "* Link para descargar (2025): https://datos.profeco.gob.mx/datos_abiertos/file.php?t=c7ada121b4029dddd5a3463fa367c56d"
   ]
  },
  {
   "cell_type": "code",
   "execution_count": 9,
   "id": "0bcbc003",
   "metadata": {},
   "outputs": [
    {
     "name": "stdout",
     "output_type": "stream",
     "text": [
      "<class 'str'> https://www.gob.mx/profeco False\n",
      "<class 'str'> index.php False\n",
      "<class 'str'> file.php?t=c7ada121b4029dddd5a3463fa367c56d True\n",
      "<class 'str'> file.php?t=4af96007e16916edb17ef6f9279e7016 True\n",
      "<class 'str'> file.php?t=f3270d227f2966e6138a3ed41a9bbfb7 True\n",
      "<class 'str'> file.php?t=af88f42c5cb82c6c35dd962b1ae69051 True\n",
      "<class 'str'> file.php?t=493b83b886f0266909d783fc8f776b11 True\n",
      "<class 'str'> file.php?t=4df382eefa26f1f0d28d3a11aaf41add True\n",
      "<class 'str'> file.php?t=09939d92d2afcde64dbc06e057877e16 True\n",
      "<class 'str'> file.php?t=01fafa951fb6c82e6e4bb491af8f1688 True\n",
      "<class 'str'> file.php?t=059e79ffa462f6f51ed3aa1dbfa83a70 True\n",
      "<class 'str'> file.php?t=c388a30cb3f4b4c4fa29302618ef5557 True\n",
      "<class 'str'> file.php?t=4ecfa981c01e742a5461bf543a7b4108 True\n"
     ]
    }
   ],
   "source": [
    "for link in soup.find_all('a'):\n",
    "    href = link.get('href') \n",
    "    print(type(href), href, 'file' in href)"
   ]
  },
  {
   "cell_type": "code",
   "execution_count": 10,
   "id": "0d4f4a3b",
   "metadata": {},
   "outputs": [
    {
     "data": {
      "text/plain": [
       "['file.php?t=c7ada121b4029dddd5a3463fa367c56d',\n",
       " 'file.php?t=4af96007e16916edb17ef6f9279e7016',\n",
       " 'file.php?t=f3270d227f2966e6138a3ed41a9bbfb7',\n",
       " 'file.php?t=af88f42c5cb82c6c35dd962b1ae69051',\n",
       " 'file.php?t=493b83b886f0266909d783fc8f776b11',\n",
       " 'file.php?t=4df382eefa26f1f0d28d3a11aaf41add',\n",
       " 'file.php?t=09939d92d2afcde64dbc06e057877e16',\n",
       " 'file.php?t=01fafa951fb6c82e6e4bb491af8f1688',\n",
       " 'file.php?t=059e79ffa462f6f51ed3aa1dbfa83a70',\n",
       " 'file.php?t=c388a30cb3f4b4c4fa29302618ef5557',\n",
       " 'file.php?t=4ecfa981c01e742a5461bf543a7b4108']"
      ]
     },
     "execution_count": 10,
     "metadata": {},
     "output_type": "execute_result"
    }
   ],
   "source": [
    "download_file_endpoints = [\n",
    "    link.get('href')\n",
    "    for link in soup.find_all('a')\n",
    "    if link.get('href') and \"file\" in link.get('href')\n",
    "]\n",
    "download_file_endpoints"
   ]
  },
  {
   "cell_type": "code",
   "execution_count": 11,
   "id": "15f8f7d4",
   "metadata": {},
   "outputs": [],
   "source": [
    "URL_DOWNLOAD_ROOT = \"https://datos.profeco.gob.mx/datos_abiertos/\""
   ]
  },
  {
   "cell_type": "markdown",
   "id": "530c11aa",
   "metadata": {},
   "source": [
    "---"
   ]
  },
  {
   "cell_type": "code",
   "execution_count": 63,
   "id": "6989817d",
   "metadata": {},
   "outputs": [],
   "source": [
    "import re"
   ]
  },
  {
   "cell_type": "code",
   "execution_count": 64,
   "id": "663e5905",
   "metadata": {},
   "outputs": [],
   "source": [
    "links_dict = {}"
   ]
  },
  {
   "cell_type": "code",
   "execution_count": 72,
   "id": "00621231",
   "metadata": {},
   "outputs": [],
   "source": [
    "for link in soup.find_all(\"a\", href=True):\n",
    "    text = link.get_text(strip=True)         \n",
    "    href = link[\"href\"]                      \n",
    "    # print(text, href)  # OK\n",
    "    match = re.search(r\"\\b(20\\d{2})\\b\", text)  # busca un año tipo 2020–2099\n",
    "    if match:\n",
    "        year = match.group(1)\n",
    "        links_dict[year] = URL_DOWNLOAD_ROOT + '/' + href\n",
    " "
   ]
  },
  {
   "cell_type": "code",
   "execution_count": 73,
   "id": "41f93fe1",
   "metadata": {},
   "outputs": [
    {
     "data": {
      "text/plain": [
       "{'2025': 'https://datos.profeco.gob.mx/datos_abiertos//file.php?t=c7ada121b4029dddd5a3463fa367c56d',\n",
       " '2024': 'https://datos.profeco.gob.mx/datos_abiertos//file.php?t=4af96007e16916edb17ef6f9279e7016',\n",
       " '2023': 'https://datos.profeco.gob.mx/datos_abiertos//file.php?t=f3270d227f2966e6138a3ed41a9bbfb7',\n",
       " '2022': 'https://datos.profeco.gob.mx/datos_abiertos//file.php?t=af88f42c5cb82c6c35dd962b1ae69051',\n",
       " '2021': 'https://datos.profeco.gob.mx/datos_abiertos//file.php?t=493b83b886f0266909d783fc8f776b11',\n",
       " '2020': 'https://datos.profeco.gob.mx/datos_abiertos//file.php?t=4df382eefa26f1f0d28d3a11aaf41add',\n",
       " '2019': 'https://datos.profeco.gob.mx/datos_abiertos//file.php?t=09939d92d2afcde64dbc06e057877e16',\n",
       " '2018': 'https://datos.profeco.gob.mx/datos_abiertos//file.php?t=01fafa951fb6c82e6e4bb491af8f1688',\n",
       " '2017': 'https://datos.profeco.gob.mx/datos_abiertos//file.php?t=059e79ffa462f6f51ed3aa1dbfa83a70',\n",
       " '2016': 'https://datos.profeco.gob.mx/datos_abiertos//file.php?t=c388a30cb3f4b4c4fa29302618ef5557',\n",
       " '2015': 'https://datos.profeco.gob.mx/datos_abiertos//file.php?t=4ecfa981c01e742a5461bf543a7b4108'}"
      ]
     },
     "execution_count": 73,
     "metadata": {},
     "output_type": "execute_result"
    }
   ],
   "source": [
    "links_dict"
   ]
  },
  {
   "cell_type": "markdown",
   "id": "8d0a17b4",
   "metadata": {},
   "source": [
    "---"
   ]
  },
  {
   "cell_type": "code",
   "execution_count": 12,
   "id": "9624157c",
   "metadata": {},
   "outputs": [
    {
     "data": {
      "text/plain": [
       "['https://datos.profeco.gob.mx/datos_abiertos/file.php?t=c7ada121b4029dddd5a3463fa367c56d',\n",
       " 'https://datos.profeco.gob.mx/datos_abiertos/file.php?t=4af96007e16916edb17ef6f9279e7016',\n",
       " 'https://datos.profeco.gob.mx/datos_abiertos/file.php?t=f3270d227f2966e6138a3ed41a9bbfb7',\n",
       " 'https://datos.profeco.gob.mx/datos_abiertos/file.php?t=af88f42c5cb82c6c35dd962b1ae69051',\n",
       " 'https://datos.profeco.gob.mx/datos_abiertos/file.php?t=493b83b886f0266909d783fc8f776b11',\n",
       " 'https://datos.profeco.gob.mx/datos_abiertos/file.php?t=4df382eefa26f1f0d28d3a11aaf41add',\n",
       " 'https://datos.profeco.gob.mx/datos_abiertos/file.php?t=09939d92d2afcde64dbc06e057877e16',\n",
       " 'https://datos.profeco.gob.mx/datos_abiertos/file.php?t=01fafa951fb6c82e6e4bb491af8f1688',\n",
       " 'https://datos.profeco.gob.mx/datos_abiertos/file.php?t=059e79ffa462f6f51ed3aa1dbfa83a70',\n",
       " 'https://datos.profeco.gob.mx/datos_abiertos/file.php?t=c388a30cb3f4b4c4fa29302618ef5557',\n",
       " 'https://datos.profeco.gob.mx/datos_abiertos/file.php?t=4ecfa981c01e742a5461bf543a7b4108']"
      ]
     },
     "execution_count": 12,
     "metadata": {},
     "output_type": "execute_result"
    }
   ],
   "source": [
    "full_download_links = [URL_DOWNLOAD_ROOT + path for path in download_file_endpoints]\n",
    "full_download_links"
   ]
  },
  {
   "cell_type": "markdown",
   "id": "0023b1a0",
   "metadata": {},
   "source": [
    "## Download full data"
   ]
  },
  {
   "cell_type": "code",
   "execution_count": 15,
   "id": "12b3df68",
   "metadata": {},
   "outputs": [
    {
     "data": {
      "text/plain": [
       "(WindowsPath('../data'), WindowsPath('../data/raw'))"
      ]
     },
     "execution_count": 15,
     "metadata": {},
     "output_type": "execute_result"
    }
   ],
   "source": [
    "DATA_PATH = Path(\"../data/\")\n",
    "RAW_DATA_PATH = DATA_PATH.joinpath(\"raw/\")\n",
    "DATA_PATH, RAW_DATA_PATH"
   ]
  },
  {
   "cell_type": "code",
   "execution_count": 16,
   "id": "73debfb3",
   "metadata": {},
   "outputs": [],
   "source": [
    "DATA_PATH.mkdir(exist_ok=True)\n",
    "RAW_DATA_PATH.mkdir(exist_ok=True)"
   ]
  },
  {
   "cell_type": "code",
   "execution_count": 18,
   "id": "e384445c",
   "metadata": {},
   "outputs": [
    {
     "data": {
      "text/plain": [
       "'https://datos.profeco.gob.mx/datos_abiertos/file.php?t=c7ada121b4029dddd5a3463fa367c56d'"
      ]
     },
     "execution_count": 18,
     "metadata": {},
     "output_type": "execute_result"
    }
   ],
   "source": [
    "url_2025 = full_download_links[0]\n",
    "url_2025"
   ]
  },
  {
   "cell_type": "code",
   "execution_count": null,
   "id": "c8a71651",
   "metadata": {},
   "outputs": [
    {
     "data": {
      "text/plain": [
       "200"
      ]
     },
     "execution_count": 19,
     "metadata": {},
     "output_type": "execute_result"
    }
   ],
   "source": [
    "r = requests.get(url_2025)\n",
    "r.status_code"
   ]
  },
  {
   "cell_type": "markdown",
   "id": "42be58c7",
   "metadata": {},
   "source": [
    "* Los archivos son pesados: `+100mb`"
   ]
  },
  {
   "cell_type": "code",
   "execution_count": 27,
   "id": "4d45cf0b",
   "metadata": {},
   "outputs": [
    {
     "name": "stdout",
     "output_type": "stream",
     "text": [
      "200\n",
      "Cache-Control\n",
      "Transfer-Encoding\n",
      "Content-Type\n",
      "Server\n",
      "X-Powered-By\n",
      "Content-Transfer-Encoding\n",
      "Content-disposition\n",
      "Strict-Transport-Security\n",
      "X-Content-Type-Options\n",
      "X-Frame-Options\n",
      "X-XSS-Protection\n",
      "Date\n"
     ]
    }
   ],
   "source": [
    "response = requests.get(url_2025, stream=True)\n",
    "print(response.status_code)\n",
    "for header in response.headers: \n",
    "    print(header)"
   ]
  },
  {
   "cell_type": "code",
   "execution_count": 28,
   "id": "2380bd49",
   "metadata": {},
   "outputs": [
    {
     "data": {
      "text/plain": [
       "('inline; filename=QQP_2025.rar', 'QQP_2025.rar')"
      ]
     },
     "execution_count": 28,
     "metadata": {},
     "output_type": "execute_result"
    }
   ],
   "source": [
    "content_disposition = response.headers['content-disposition']\n",
    "filename = content_disposition.split(\"filename=\")[1]\n",
    "content_disposition, filename"
   ]
  },
  {
   "cell_type": "code",
   "execution_count": 29,
   "id": "91928a77",
   "metadata": {},
   "outputs": [],
   "source": [
    "with open(RAW_DATA_PATH.joinpath(filename), mode='wb') as file: \n",
    "    for chunk in response.iter_content(chunk_size=10*1024): \n",
    "        file.write(chunk)"
   ]
  },
  {
   "cell_type": "code",
   "execution_count": null,
   "id": "104b4882",
   "metadata": {},
   "outputs": [],
   "source": [
    "def download_file_by_chunks(url, path=Path(\"../data/raw/\")):\n",
    "    response = requests.get(url, stream=True) \n",
    "\n",
    "    # Get filename\n",
    "    if \"content-disposition\" in response.headers:\n",
    "        content_disposition = response.headers[\"content-disposition\"]\n",
    "        filename = content_disposition.split(\"filename=\")[-1]\n",
    "    else:\n",
    "        filename = url.split(\"/\")[-1]\n",
    "\n",
    "    file_path = path / filename\n",
    "\n",
    "    # download by chunks\n",
    "    with open(file_path, mode='wb') as file:\n",
    "        for chunk in response.iter_content(chunk_size=1024*1024):  # 1 MB\n",
    "            if chunk:  # avoid empty chunks\n",
    "                file.write(chunk)\n",
    "    \n",
    "    if file_path.is_file(): \n",
    "        print('Data downloaded at: ', file_path)\n",
    "        \n",
    "    return file_path"
   ]
  },
  {
   "cell_type": "code",
   "execution_count": 48,
   "id": "e2d84352",
   "metadata": {},
   "outputs": [
    {
     "name": "stdout",
     "output_type": "stream",
     "text": [
      "Data downloaded at:  ..\\data\\raw\\QQP_2025.rar\n"
     ]
    },
    {
     "data": {
      "text/plain": [
       "WindowsPath('../data/raw/QQP_2025.rar')"
      ]
     },
     "execution_count": 48,
     "metadata": {},
     "output_type": "execute_result"
    }
   ],
   "source": [
    "download_file_by_chunks(url_2025, RAW_DATA_PATH)"
   ]
  },
  {
   "cell_type": "markdown",
   "id": "58413d89",
   "metadata": {},
   "source": [
    "### Download in parallel"
   ]
  },
  {
   "cell_type": "code",
   "execution_count": 49,
   "id": "678b5b44",
   "metadata": {},
   "outputs": [],
   "source": [
    "from concurrent.futures import ThreadPoolExecutor"
   ]
  },
  {
   "cell_type": "code",
   "execution_count": 61,
   "id": "ee253730",
   "metadata": {},
   "outputs": [],
   "source": [
    "def download_files(downloader, urls): \n",
    "    with ThreadPoolExecutor(max_workers=4) as executor: \n",
    "        executor.map(downloader, urls)"
   ]
  },
  {
   "cell_type": "code",
   "execution_count": 62,
   "id": "1481894d",
   "metadata": {},
   "outputs": [
    {
     "name": "stdout",
     "output_type": "stream",
     "text": [
      "Data downloaded at:  ..\\data\\raw\\QQP_2025.rar\n",
      "Data downloaded at:  ..\\data\\raw\\QQP_2022.rar\n",
      "Data downloaded at:  ..\\data\\raw\\QQP_2024.rar\n",
      "Data downloaded at:  ..\\data\\raw\\QQP_2023.rar\n",
      "Data downloaded at:  ..\\data\\raw\\QQP_2021.rar\n",
      "Data downloaded at:  ..\\data\\raw\\QQP_2020.rar\n",
      "Data downloaded at:  ..\\data\\raw\\QQP_2019.rar\n",
      "Data downloaded at:  ..\\data\\raw\\QQP_2018.rar\n",
      "Data downloaded at:  ..\\data\\raw\\QQP_2017.rar\n",
      "Data downloaded at:  ..\\data\\raw\\QQP_2016.rar\n",
      "Data downloaded at:  ..\\data\\raw\\QQP_2015.rar\n"
     ]
    }
   ],
   "source": [
    "download_files(download_file_by_chunks, full_download_links)"
   ]
  },
  {
   "cell_type": "code",
   "execution_count": null,
   "id": "8890f544",
   "metadata": {},
   "outputs": [],
   "source": []
  }
 ],
 "metadata": {
  "kernelspec": {
   "display_name": "prices",
   "language": "python",
   "name": "python3"
  },
  "language_info": {
   "codemirror_mode": {
    "name": "ipython",
    "version": 3
   },
   "file_extension": ".py",
   "mimetype": "text/x-python",
   "name": "python",
   "nbconvert_exporter": "python",
   "pygments_lexer": "ipython3",
   "version": "3.13.7"
  }
 },
 "nbformat": 4,
 "nbformat_minor": 5
}
